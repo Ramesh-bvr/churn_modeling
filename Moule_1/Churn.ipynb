{
 "cells": [
  {
   "cell_type": "code",
   "execution_count": 2,
   "id": "9e03fa84",
   "metadata": {},
   "outputs": [],
   "source": [
    "import numpy as np\n",
    "import matplotlib.pyplot as plt\n",
    "import pandas as pd"
   ]
  },
  {
   "cell_type": "code",
   "execution_count": 13,
   "id": "76b11deb",
   "metadata": {},
   "outputs": [],
   "source": [
    "dataset = pd.read_csv('C:\\\\Users\\\\Ramesh\\\\Documents\\\\Ramesh\\\\Personal\\\\Project\\churn_modeling\\\\Data_set\\\\Churn_Modelling.csv')\n",
    "x = dataset.iloc[:,3:13]\n",
    "y = dataset.iloc[:,13]\n"
   ]
  },
  {
   "cell_type": "code",
   "execution_count": 16,
   "id": "cafff3f2",
   "metadata": {},
   "outputs": [],
   "source": [
    "#create dummy variable\n",
    "geography = pd.get_dummies(x['Geography'],drop_first=True)\n",
    "gender = pd.get_dummies(x['Gender'],drop_first=True)\n"
   ]
  },
  {
   "cell_type": "code",
   "execution_count": 17,
   "id": "4fb7a047",
   "metadata": {},
   "outputs": [],
   "source": [
    "x = pd.concat([x,geography,gender],axis=1)"
   ]
  },
  {
   "cell_type": "code",
   "execution_count": 18,
   "id": "a4f26ec6",
   "metadata": {},
   "outputs": [],
   "source": [
    "x = x.drop(['Geography','Gender'],axis=1)"
   ]
  }
 ],
 "metadata": {
  "kernelspec": {
   "display_name": "Python 3 (ipykernel)",
   "language": "python",
   "name": "python3"
  },
  "language_info": {
   "codemirror_mode": {
    "name": "ipython",
    "version": 3
   },
   "file_extension": ".py",
   "mimetype": "text/x-python",
   "name": "python",
   "nbconvert_exporter": "python",
   "pygments_lexer": "ipython3",
   "version": "3.9.12"
  }
 },
 "nbformat": 4,
 "nbformat_minor": 5
}
