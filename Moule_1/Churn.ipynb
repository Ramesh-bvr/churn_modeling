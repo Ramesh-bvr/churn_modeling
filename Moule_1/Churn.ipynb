{
  "cells": [
    {
      "cell_type": "code",
      "execution_count": null,
      "id": "9e03fa84",
      "metadata": {
        "id": "9e03fa84"
      },
      "outputs": [],
      "source": [
        "import numpy as np\n",
        "import matplotlib.pyplot as plt\n",
        "import pandas as pd"
      ]
    },
    {
      "cell_type": "code",
      "execution_count": null,
      "id": "76b11deb",
      "metadata": {
        "id": "76b11deb"
      },
      "outputs": [],
      "source": [
        "dataset = pd.read_csv('C:\\\\Users\\\\Ramesh\\\\Documents\\\\Ramesh\\\\Personal\\\\Project\\churn_modeling\\\\Data_set\\\\Churn_Modelling.csv')\n",
        "x = dataset.iloc[:,3:13]\n",
        "y = dataset.iloc[:,13]\n"
      ]
    },
    {
      "cell_type": "code",
      "execution_count": null,
      "id": "cafff3f2",
      "metadata": {
        "id": "cafff3f2"
      },
      "outputs": [],
      "source": [
        "#create dummy variable\n",
        "geography = pd.get_dummies(x['Geography'],drop_first=True)\n",
        "gender = pd.get_dummies(x['Gender'],drop_first=True)\n"
      ]
    },
    {
      "cell_type": "code",
      "execution_count": null,
      "id": "4fb7a047",
      "metadata": {
        "id": "4fb7a047"
      },
      "outputs": [],
      "source": [
        "x = pd.concat([x,geography,gender],axis=1)"
      ]
    },
    {
      "cell_type": "code",
      "execution_count": null,
      "id": "a4f26ec6",
      "metadata": {
        "id": "a4f26ec6"
      },
      "outputs": [],
      "source": [
        "x = x.drop(['Geography','Gender'],axis=1)"
      ]
    },
    {
      "cell_type": "code",
      "source": [
        "import tenserflow"
      ],
      "metadata": {
        "id": "eRlgBG-js1Qu"
      },
      "id": "eRlgBG-js1Qu",
      "execution_count": null,
      "outputs": []
    }
  ],
  "metadata": {
    "kernelspec": {
      "display_name": "Python 3 (ipykernel)",
      "language": "python",
      "name": "python3"
    },
    "language_info": {
      "codemirror_mode": {
        "name": "ipython",
        "version": 3
      },
      "file_extension": ".py",
      "mimetype": "text/x-python",
      "name": "python",
      "nbconvert_exporter": "python",
      "pygments_lexer": "ipython3",
      "version": "3.9.12"
    },
    "colab": {
      "provenance": [],
      "toc_visible": true
    }
  },
  "nbformat": 4,
  "nbformat_minor": 5
}